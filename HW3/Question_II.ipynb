{
 "cells": [
  {
   "cell_type": "raw",
   "id": "d24fc445-6256-488d-a04e-aef3db62239d",
   "metadata": {},
   "source": [
    "---\n",
    "title: \"Task 2\"\n",
    "subtitle: \"Principal Components\"\n",
    "author: \"Name Surname\"\n",
    "date: \"May 8, 2023\"\n",
    "---"
   ]
  },
  {
   "cell_type": "markdown",
   "id": "db8c59b9-c0c7-49f6-bd1a-80b81ce2122c",
   "metadata": {},
   "source": [
    "**Task 2:** Find a data set which is suitable for classification (you can use one of the data sets which you used in Homework II) with **numerical features** only (if the data set involves categorical ones in addition to numerical ones, you can drop the categorical ones). Build a [LogisticRegression](https://scikit-learn.org/stable/modules/generated/sklearn.linear_model.LogisticRegression.html) classifier with `penalty=None` which requires scaling of numerical features with [StandardScaler](https://scikit-learn.org/stable/modules/generated/sklearn.preprocessing.StandardScaler.html) and dimension reduction of numerical features with [PCA](https://scikit-learn.org/stable/modules/generated/sklearn.decomposition.PCA.html). Show us the workflow and report the accuracy of the resulting model on the unseen data.\n",
    "\n",
    "\n",
    "#### Instructions to follow:\n",
    "\n",
    "- Include all your codes here. Be sure that your code is CLEAN, READABLE, and REPRODUCIBLE.\n",
    "- Put your data set into a **datasets** folder.\n",
    "- Put your images (if available) into an **images** folder.\n",
    "- Please return a NICE and CLEAR homework. Otherwise, it will not be graded.\n",
    "- Please write YOUR OWN code. **DO NOT copy** my codes or someone else's codes.\n",
    "- Please **DO NOT use** IRIS data set or Breast Cancer data set for this task."
   ]
  },
  {
   "cell_type": "markdown",
   "id": "733f1643-bb84-4278-9e62-1f63d6adfa45",
   "metadata": {},
   "source": [
    "## Data Decription\n",
    "\n",
    "- Import and introduce your data set here."
   ]
  },
  {
   "cell_type": "markdown",
   "id": "d9557820",
   "metadata": {},
   "source": [
    "The Room Occupancy data set (can be found [here](https://www.kaggle.com/datasets/sachinsharma1123/room-occupancy)) contains 5 features and a target variable. These 5 features determine whether the room is occupied or not.\n",
    "The column names are:\n",
    "- Temperature: The temperature of the room in celcius.\n",
    "- Humidity: Relative humidity of the room in %.\n",
    "- Light: The amount of light in the room in lux.\n",
    "- CO2: The amount of carbondioxide in the room in ppm.\n",
    "- HumidityRatio: Humidity ratio, derived quantity from temperature and relative humidity, in kgwater-vapor/kg-air.\n",
    "- Occupancy: Occupancy of the room, 0 for not occupied, 1 for occupied status."
   ]
  },
  {
   "cell_type": "code",
   "execution_count": 74,
   "id": "3620c57b",
   "metadata": {
    "scrolled": true
   },
   "outputs": [
    {
     "data": {
      "text/html": [
       "<div>\n",
       "<style scoped>\n",
       "    .dataframe tbody tr th:only-of-type {\n",
       "        vertical-align: middle;\n",
       "    }\n",
       "\n",
       "    .dataframe tbody tr th {\n",
       "        vertical-align: top;\n",
       "    }\n",
       "\n",
       "    .dataframe thead th {\n",
       "        text-align: right;\n",
       "    }\n",
       "</style>\n",
       "<table border=\"1\" class=\"dataframe\">\n",
       "  <thead>\n",
       "    <tr style=\"text-align: right;\">\n",
       "      <th></th>\n",
       "      <th>Temperature</th>\n",
       "      <th>Humidity</th>\n",
       "      <th>Light</th>\n",
       "      <th>CO2</th>\n",
       "      <th>HumidityRatio</th>\n",
       "      <th>Occupancy</th>\n",
       "    </tr>\n",
       "  </thead>\n",
       "  <tbody>\n",
       "    <tr>\n",
       "      <th>0</th>\n",
       "      <td>23.7000</td>\n",
       "      <td>26.272</td>\n",
       "      <td>585.200000</td>\n",
       "      <td>749.200000</td>\n",
       "      <td>0.004764</td>\n",
       "      <td>1</td>\n",
       "    </tr>\n",
       "    <tr>\n",
       "      <th>1</th>\n",
       "      <td>23.7180</td>\n",
       "      <td>26.290</td>\n",
       "      <td>578.400000</td>\n",
       "      <td>760.400000</td>\n",
       "      <td>0.004773</td>\n",
       "      <td>1</td>\n",
       "    </tr>\n",
       "    <tr>\n",
       "      <th>2</th>\n",
       "      <td>23.7300</td>\n",
       "      <td>26.230</td>\n",
       "      <td>572.666667</td>\n",
       "      <td>769.666667</td>\n",
       "      <td>0.004765</td>\n",
       "      <td>1</td>\n",
       "    </tr>\n",
       "    <tr>\n",
       "      <th>3</th>\n",
       "      <td>23.7225</td>\n",
       "      <td>26.125</td>\n",
       "      <td>493.750000</td>\n",
       "      <td>774.750000</td>\n",
       "      <td>0.004744</td>\n",
       "      <td>1</td>\n",
       "    </tr>\n",
       "    <tr>\n",
       "      <th>4</th>\n",
       "      <td>23.7540</td>\n",
       "      <td>26.200</td>\n",
       "      <td>488.600000</td>\n",
       "      <td>779.000000</td>\n",
       "      <td>0.004767</td>\n",
       "      <td>1</td>\n",
       "    </tr>\n",
       "  </tbody>\n",
       "</table>\n",
       "</div>"
      ],
      "text/plain": [
       "   Temperature  Humidity       Light         CO2  HumidityRatio  Occupancy\n",
       "0      23.7000    26.272  585.200000  749.200000       0.004764          1\n",
       "1      23.7180    26.290  578.400000  760.400000       0.004773          1\n",
       "2      23.7300    26.230  572.666667  769.666667       0.004765          1\n",
       "3      23.7225    26.125  493.750000  774.750000       0.004744          1\n",
       "4      23.7540    26.200  488.600000  779.000000       0.004767          1"
      ]
     },
     "execution_count": 74,
     "metadata": {},
     "output_type": "execute_result"
    }
   ],
   "source": [
    "import pandas as pd\n",
    "room = pd.read_csv(\"datasets/Room_Occupancy.csv\")\n",
    "room.head()"
   ]
  },
  {
   "cell_type": "code",
   "execution_count": 75,
   "id": "603e8a05",
   "metadata": {},
   "outputs": [
    {
     "name": "stdout",
     "output_type": "stream",
     "text": [
      "<class 'pandas.core.frame.DataFrame'>\n",
      "RangeIndex: 2665 entries, 0 to 2664\n",
      "Data columns (total 6 columns):\n",
      " #   Column         Non-Null Count  Dtype  \n",
      "---  ------         --------------  -----  \n",
      " 0   Temperature    2665 non-null   float64\n",
      " 1   Humidity       2665 non-null   float64\n",
      " 2   Light          2665 non-null   float64\n",
      " 3   CO2            2665 non-null   float64\n",
      " 4   HumidityRatio  2665 non-null   float64\n",
      " 5   Occupancy      2665 non-null   int64  \n",
      "dtypes: float64(5), int64(1)\n",
      "memory usage: 125.1 KB\n"
     ]
    }
   ],
   "source": [
    "room.info()"
   ]
  },
  {
   "cell_type": "code",
   "execution_count": 76,
   "id": "7a13abbc",
   "metadata": {},
   "outputs": [
    {
     "data": {
      "text/plain": [
       "(2583, 6)"
      ]
     },
     "execution_count": 76,
     "metadata": {},
     "output_type": "execute_result"
    }
   ],
   "source": [
    "room = room.drop_duplicates()\n",
    "room.shape"
   ]
  },
  {
   "cell_type": "code",
   "execution_count": 77,
   "id": "64feae0d",
   "metadata": {},
   "outputs": [],
   "source": [
    "X = room.drop([\"Occupancy\"], axis=1)\n",
    "y = room[[\"Occupancy\"]]"
   ]
  },
  {
   "cell_type": "code",
   "execution_count": 78,
   "id": "9eb97da3",
   "metadata": {
    "scrolled": false
   },
   "outputs": [
    {
     "data": {
      "text/html": [
       "<div>\n",
       "<style scoped>\n",
       "    .dataframe tbody tr th:only-of-type {\n",
       "        vertical-align: middle;\n",
       "    }\n",
       "\n",
       "    .dataframe tbody tr th {\n",
       "        vertical-align: top;\n",
       "    }\n",
       "\n",
       "    .dataframe thead th {\n",
       "        text-align: right;\n",
       "    }\n",
       "</style>\n",
       "<table border=\"1\" class=\"dataframe\">\n",
       "  <thead>\n",
       "    <tr style=\"text-align: right;\">\n",
       "      <th></th>\n",
       "      <th>Temperature</th>\n",
       "      <th>Humidity</th>\n",
       "      <th>Light</th>\n",
       "      <th>CO2</th>\n",
       "      <th>HumidityRatio</th>\n",
       "    </tr>\n",
       "  </thead>\n",
       "  <tbody>\n",
       "    <tr>\n",
       "      <th>Temperature</th>\n",
       "      <td>1.000000</td>\n",
       "      <td>0.711831</td>\n",
       "      <td>0.764141</td>\n",
       "      <td>0.867297</td>\n",
       "      <td>0.892671</td>\n",
       "    </tr>\n",
       "    <tr>\n",
       "      <th>Humidity</th>\n",
       "      <td>0.711831</td>\n",
       "      <td>1.000000</td>\n",
       "      <td>0.555120</td>\n",
       "      <td>0.911464</td>\n",
       "      <td>0.950942</td>\n",
       "    </tr>\n",
       "    <tr>\n",
       "      <th>Light</th>\n",
       "      <td>0.764141</td>\n",
       "      <td>0.555120</td>\n",
       "      <td>1.000000</td>\n",
       "      <td>0.764591</td>\n",
       "      <td>0.688089</td>\n",
       "    </tr>\n",
       "    <tr>\n",
       "      <th>CO2</th>\n",
       "      <td>0.867297</td>\n",
       "      <td>0.911464</td>\n",
       "      <td>0.764591</td>\n",
       "      <td>1.000000</td>\n",
       "      <td>0.964322</td>\n",
       "    </tr>\n",
       "    <tr>\n",
       "      <th>HumidityRatio</th>\n",
       "      <td>0.892671</td>\n",
       "      <td>0.950942</td>\n",
       "      <td>0.688089</td>\n",
       "      <td>0.964322</td>\n",
       "      <td>1.000000</td>\n",
       "    </tr>\n",
       "  </tbody>\n",
       "</table>\n",
       "</div>"
      ],
      "text/plain": [
       "               Temperature  Humidity     Light       CO2  HumidityRatio\n",
       "Temperature       1.000000  0.711831  0.764141  0.867297       0.892671\n",
       "Humidity          0.711831  1.000000  0.555120  0.911464       0.950942\n",
       "Light             0.764141  0.555120  1.000000  0.764591       0.688089\n",
       "CO2               0.867297  0.911464  0.764591  1.000000       0.964322\n",
       "HumidityRatio     0.892671  0.950942  0.688089  0.964322       1.000000"
      ]
     },
     "execution_count": 78,
     "metadata": {},
     "output_type": "execute_result"
    }
   ],
   "source": [
    "X.corr()"
   ]
  },
  {
   "cell_type": "code",
   "execution_count": 79,
   "id": "ca61dc72",
   "metadata": {},
   "outputs": [
    {
     "data": {
      "text/plain": [
       "Text(0.5, 1.0, 'Heatmap of the Correlation Matrix')"
      ]
     },
     "execution_count": 79,
     "metadata": {},
     "output_type": "execute_result"
    },
    {
     "data": {
      "image/png": "[encoded data removed]",
      "text/plain": [
       "<Figure size 2000x1500 with 2 Axes>"
      ]
     },
     "metadata": {},
     "output_type": "display_data"
    }
   ],
   "source": [
    "import seaborn as sns\n",
    "import matplotlib.pyplot as plt\n",
    "\n",
    "fig = plt.figure(figsize=(20, 15))\n",
    "sns.heatmap(X.corr(), cmap='BuPu', annot=True, vmin=-1, vmax=1)\n",
    "plt.title('Heatmap of the Correlation Matrix')"
   ]
  },
  {
   "cell_type": "markdown",
   "id": "b721e4b5-6e07-478d-9c95-a10b74ff77a5",
   "metadata": {},
   "source": [
    "## Pre-processing\n",
    "- Split your data into train and test sets.\n",
    "- Scale your numerical features with [StandardScaler](https://scikit-learn.org/stable/modules/generated/sklearn.preprocessing.StandardScaler.html) here.\n",
    "- Reduce the dimension of you scaled features with [PCA](https://scikit-learn.org/stable/modules/generated/sklearn.decomposition.PCA.html) here by applying principal components to your scaled data set.\n",
    "- While applying PCA, show us how you selected the best number of principal components for this data set."
   ]
  },
  {
   "cell_type": "markdown",
   "id": "674b702d",
   "metadata": {},
   "source": [
    "#### - Data splitting"
   ]
  },
  {
   "cell_type": "code",
   "execution_count": 80,
   "id": "5f02c65a",
   "metadata": {},
   "outputs": [],
   "source": [
    "from sklearn.model_selection import train_test_split\n",
    "X_train, X_test, y_train, y_test = train_test_split(X, y, test_size=0.20, shuffle=True, random_state=2002)"
   ]
  },
  {
   "cell_type": "code",
   "execution_count": 81,
   "id": "c40b1cb8",
   "metadata": {},
   "outputs": [
    {
     "data": {
      "text/html": [
       "<div>\n",
       "<style scoped>\n",
       "    .dataframe tbody tr th:only-of-type {\n",
       "        vertical-align: middle;\n",
       "    }\n",
       "\n",
       "    .dataframe tbody tr th {\n",
       "        vertical-align: top;\n",
       "    }\n",
       "\n",
       "    .dataframe thead th {\n",
       "        text-align: right;\n",
       "    }\n",
       "</style>\n",
       "<table border=\"1\" class=\"dataframe\">\n",
       "  <thead>\n",
       "    <tr style=\"text-align: right;\">\n",
       "      <th></th>\n",
       "      <th>Temperature</th>\n",
       "      <th>Humidity</th>\n",
       "      <th>Light</th>\n",
       "      <th>CO2</th>\n",
       "      <th>HumidityRatio</th>\n",
       "    </tr>\n",
       "  </thead>\n",
       "  <tbody>\n",
       "    <tr>\n",
       "      <th>count</th>\n",
       "      <td>2066.000000</td>\n",
       "      <td>2066.000000</td>\n",
       "      <td>2066.000000</td>\n",
       "      <td>2066.000000</td>\n",
       "      <td>2066.000000</td>\n",
       "    </tr>\n",
       "    <tr>\n",
       "      <th>mean</th>\n",
       "      <td>21.457755</td>\n",
       "      <td>25.416300</td>\n",
       "      <td>201.484312</td>\n",
       "      <td>726.379747</td>\n",
       "      <td>0.004043</td>\n",
       "    </tr>\n",
       "    <tr>\n",
       "      <th>std</th>\n",
       "      <td>1.027858</td>\n",
       "      <td>2.451835</td>\n",
       "      <td>252.118472</td>\n",
       "      <td>294.414500</td>\n",
       "      <td>0.000613</td>\n",
       "    </tr>\n",
       "    <tr>\n",
       "      <th>min</th>\n",
       "      <td>20.200000</td>\n",
       "      <td>22.100000</td>\n",
       "      <td>0.000000</td>\n",
       "      <td>427.600000</td>\n",
       "      <td>0.003303</td>\n",
       "    </tr>\n",
       "    <tr>\n",
       "      <th>25%</th>\n",
       "      <td>20.675000</td>\n",
       "      <td>23.290000</td>\n",
       "      <td>0.000000</td>\n",
       "      <td>467.270833</td>\n",
       "      <td>0.003543</td>\n",
       "    </tr>\n",
       "    <tr>\n",
       "      <th>50%</th>\n",
       "      <td>20.972500</td>\n",
       "      <td>25.000000</td>\n",
       "      <td>0.000000</td>\n",
       "      <td>595.166667</td>\n",
       "      <td>0.003835</td>\n",
       "    </tr>\n",
       "    <tr>\n",
       "      <th>75%</th>\n",
       "      <td>22.390000</td>\n",
       "      <td>27.000000</td>\n",
       "      <td>444.000000</td>\n",
       "      <td>973.900000</td>\n",
       "      <td>0.004544</td>\n",
       "    </tr>\n",
       "    <tr>\n",
       "      <th>max</th>\n",
       "      <td>24.408333</td>\n",
       "      <td>31.472500</td>\n",
       "      <td>1697.250000</td>\n",
       "      <td>1402.250000</td>\n",
       "      <td>0.005378</td>\n",
       "    </tr>\n",
       "  </tbody>\n",
       "</table>\n",
       "</div>"
      ],
      "text/plain": [
       "       Temperature     Humidity        Light          CO2  HumidityRatio\n",
       "count  2066.000000  2066.000000  2066.000000  2066.000000    2066.000000\n",
       "mean     21.457755    25.416300   201.484312   726.379747       0.004043\n",
       "std       1.027858     2.451835   252.118472   294.414500       0.000613\n",
       "min      20.200000    22.100000     0.000000   427.600000       0.003303\n",
       "25%      20.675000    23.290000     0.000000   467.270833       0.003543\n",
       "50%      20.972500    25.000000     0.000000   595.166667       0.003835\n",
       "75%      22.390000    27.000000   444.000000   973.900000       0.004544\n",
       "max      24.408333    31.472500  1697.250000  1402.250000       0.005378"
      ]
     },
     "execution_count": 81,
     "metadata": {},
     "output_type": "execute_result"
    }
   ],
   "source": [
    "X_train.describe()"
   ]
  },
  {
   "cell_type": "markdown",
   "id": "9ce78c29",
   "metadata": {},
   "source": [
    "#### - Data scaling"
   ]
  },
  {
   "cell_type": "code",
   "execution_count": 82,
   "id": "7e1ff7ef",
   "metadata": {},
   "outputs": [
    {
     "data": {
      "text/html": [
       "<style>#sk-container-id-6 {color: black;background-color: white;}#sk-container-id-6 pre{padding: 0;}#sk-container-id-6 div.sk-toggleable {background-color: white;}#sk-container-id-6 label.sk-toggleable__label {cursor: pointer;display: block;width: 100%;margin-bottom: 0;padding: 0.3em;box-sizing: border-box;text-align: center;}#sk-container-id-6 label.sk-toggleable__label-arrow:before {content: \"▸\";float: left;margin-right: 0.25em;color: #696969;}#sk-container-id-6 label.sk-toggleable__label-arrow:hover:before {color: black;}#sk-container-id-6 div.sk-estimator:hover label.sk-toggleable__label-arrow:before {color: black;}#sk-container-id-6 div.sk-toggleable__content {max-height: 0;max-width: 0;overflow: hidden;text-align: left;background-color: #f0f8ff;}#sk-container-id-6 div.sk-toggleable__content pre {margin: 0.2em;color: black;border-radius: 0.25em;background-color: #f0f8ff;}#sk-container-id-6 input.sk-toggleable__control:checked~div.sk-toggleable__content {max-height: 200px;max-width: 100%;overflow: auto;}#sk-container-id-6 input.sk-toggleable__control:checked~label.sk-toggleable__label-arrow:before {content: \"▾\";}#sk-container-id-6 div.sk-estimator input.sk-toggleable__control:checked~label.sk-toggleable__label {background-color: #d4ebff;}#sk-container-id-6 div.sk-label input.sk-toggleable__control:checked~label.sk-toggleable__label {background-color: #d4ebff;}#sk-container-id-6 input.sk-hidden--visually {border: 0;clip: rect(1px 1px 1px 1px);clip: rect(1px, 1px, 1px, 1px);height: 1px;margin: -1px;overflow: hidden;padding: 0;position: absolute;width: 1px;}#sk-container-id-6 div.sk-estimator {font-family: monospace;background-color: #f0f8ff;border: 1px dotted black;border-radius: 0.25em;box-sizing: border-box;margin-bottom: 0.5em;}#sk-container-id-6 div.sk-estimator:hover {background-color: #d4ebff;}#sk-container-id-6 div.sk-parallel-item::after {content: \"\";width: 100%;border-bottom: 1px solid gray;flex-grow: 1;}#sk-container-id-6 div.sk-label:hover label.sk-toggleable__label {background-color: #d4ebff;}#sk-container-id-6 div.sk-serial::before {content: \"\";position: absolute;border-left: 1px solid gray;box-sizing: border-box;top: 0;bottom: 0;left: 50%;z-index: 0;}#sk-container-id-6 div.sk-serial {display: flex;flex-direction: column;align-items: center;background-color: white;padding-right: 0.2em;padding-left: 0.2em;position: relative;}#sk-container-id-6 div.sk-item {position: relative;z-index: 1;}#sk-container-id-6 div.sk-parallel {display: flex;align-items: stretch;justify-content: center;background-color: white;position: relative;}#sk-container-id-6 div.sk-item::before, #sk-container-id-6 div.sk-parallel-item::before {content: \"\";position: absolute;border-left: 1px solid gray;box-sizing: border-box;top: 0;bottom: 0;left: 50%;z-index: -1;}#sk-container-id-6 div.sk-parallel-item {display: flex;flex-direction: column;z-index: 1;position: relative;background-color: white;}#sk-container-id-6 div.sk-parallel-item:first-child::after {align-self: flex-end;width: 50%;}#sk-container-id-6 div.sk-parallel-item:last-child::after {align-self: flex-start;width: 50%;}#sk-container-id-6 div.sk-parallel-item:only-child::after {width: 0;}#sk-container-id-6 div.sk-dashed-wrapped {border: 1px dashed gray;margin: 0 0.4em 0.5em 0.4em;box-sizing: border-box;padding-bottom: 0.4em;background-color: white;}#sk-container-id-6 div.sk-label label {font-family: monospace;font-weight: bold;display: inline-block;line-height: 1.2em;}#sk-container-id-6 div.sk-label-container {text-align: center;}#sk-container-id-6 div.sk-container {/* jupyter's `normalize.less` sets `[hidden] { display: none; }` but bootstrap.min.css set `[hidden] { display: none !important; }` so we also need the `!important` here to be able to override the default hidden behavior on the sphinx rendered scikit-learn.org. See: https://github.com/scikit-learn/scikit-learn/issues/21755 */display: inline-block !important;position: relative;}#sk-container-id-6 div.sk-text-repr-fallback {display: none;}</style><div id=\"sk-container-id-6\" class=\"sk-top-container\"><div class=\"sk-text-repr-fallback\"><pre>StandardScaler()</pre><b>In a Jupyter environment, please rerun this cell to show the HTML representation or trust the notebook. <br />On GitHub, the HTML representation is unable to render, please try loading this page with nbviewer.org.</b></div><div class=\"sk-container\" hidden><div class=\"sk-item\"><div class=\"sk-estimator sk-toggleable\"><input class=\"sk-toggleable__control sk-hidden--visually\" id=\"sk-estimator-id-6\" type=\"checkbox\" checked><label for=\"sk-estimator-id-6\" class=\"sk-toggleable__label sk-toggleable__label-arrow\">StandardScaler</label><div class=\"sk-toggleable__content\"><pre>StandardScaler()</pre></div></div></div></div></div>"
      ],
      "text/plain": [
       "StandardScaler()"
      ]
     },
     "execution_count": 82,
     "metadata": {},
     "output_type": "execute_result"
    }
   ],
   "source": [
    "from sklearn import set_config\n",
    "set_config(transform_output=\"pandas\")\n",
    "\n",
    "from sklearn.preprocessing import StandardScaler\n",
    "scaler = StandardScaler()\n",
    "scaler.fit(X_train)"
   ]
  },
  {
   "cell_type": "code",
   "execution_count": 83,
   "id": "5457d627",
   "metadata": {},
   "outputs": [],
   "source": [
    "X_train_scaled = scaler.transform(X_train) "
   ]
  },
  {
   "cell_type": "code",
   "execution_count": 84,
   "id": "51da560f",
   "metadata": {},
   "outputs": [
    {
     "data": {
      "text/html": [
       "<div>\n",
       "<style scoped>\n",
       "    .dataframe tbody tr th:only-of-type {\n",
       "        vertical-align: middle;\n",
       "    }\n",
       "\n",
       "    .dataframe tbody tr th {\n",
       "        vertical-align: top;\n",
       "    }\n",
       "\n",
       "    .dataframe thead th {\n",
       "        text-align: right;\n",
       "    }\n",
       "</style>\n",
       "<table border=\"1\" class=\"dataframe\">\n",
       "  <thead>\n",
       "    <tr style=\"text-align: right;\">\n",
       "      <th></th>\n",
       "      <th>Temperature</th>\n",
       "      <th>Humidity</th>\n",
       "      <th>Light</th>\n",
       "      <th>CO2</th>\n",
       "      <th>HumidityRatio</th>\n",
       "    </tr>\n",
       "  </thead>\n",
       "  <tbody>\n",
       "    <tr>\n",
       "      <th>count</th>\n",
       "      <td>2.066000e+03</td>\n",
       "      <td>2.066000e+03</td>\n",
       "      <td>2.066000e+03</td>\n",
       "      <td>2.066000e+03</td>\n",
       "      <td>2.066000e+03</td>\n",
       "    </tr>\n",
       "    <tr>\n",
       "      <th>mean</th>\n",
       "      <td>-2.434967e-15</td>\n",
       "      <td>2.140914e-16</td>\n",
       "      <td>-2.751376e-17</td>\n",
       "      <td>6.083119e-17</td>\n",
       "      <td>-2.441846e-16</td>\n",
       "    </tr>\n",
       "    <tr>\n",
       "      <th>std</th>\n",
       "      <td>1.000242e+00</td>\n",
       "      <td>1.000242e+00</td>\n",
       "      <td>1.000242e+00</td>\n",
       "      <td>1.000242e+00</td>\n",
       "      <td>1.000242e+00</td>\n",
       "    </tr>\n",
       "    <tr>\n",
       "      <th>min</th>\n",
       "      <td>-1.223962e+00</td>\n",
       "      <td>-1.352906e+00</td>\n",
       "      <td>-7.993587e-01</td>\n",
       "      <td>-1.015073e+00</td>\n",
       "      <td>-1.206137e+00</td>\n",
       "    </tr>\n",
       "    <tr>\n",
       "      <th>25%</th>\n",
       "      <td>-7.617246e-01</td>\n",
       "      <td>-8.674380e-01</td>\n",
       "      <td>-7.993587e-01</td>\n",
       "      <td>-8.802951e-01</td>\n",
       "      <td>-8.150664e-01</td>\n",
       "    </tr>\n",
       "    <tr>\n",
       "      <th>50%</th>\n",
       "      <td>-4.722177e-01</td>\n",
       "      <td>-1.698324e-01</td>\n",
       "      <td>-7.993587e-01</td>\n",
       "      <td>-4.457826e-01</td>\n",
       "      <td>-3.388546e-01</td>\n",
       "    </tr>\n",
       "    <tr>\n",
       "      <th>75%</th>\n",
       "      <td>9.071974e-01</td>\n",
       "      <td>6.460806e-01</td>\n",
       "      <td>9.621445e-01</td>\n",
       "      <td>8.409239e-01</td>\n",
       "      <td>8.164850e-01</td>\n",
       "    </tr>\n",
       "    <tr>\n",
       "      <th>max</th>\n",
       "      <td>2.871303e+00</td>\n",
       "      <td>2.470666e+00</td>\n",
       "      <td>5.934225e+00</td>\n",
       "      <td>2.296198e+00</td>\n",
       "      <td>2.176598e+00</td>\n",
       "    </tr>\n",
       "  </tbody>\n",
       "</table>\n",
       "</div>"
      ],
      "text/plain": [
       "        Temperature      Humidity         Light           CO2  HumidityRatio\n",
       "count  2.066000e+03  2.066000e+03  2.066000e+03  2.066000e+03   2.066000e+03\n",
       "mean  -2.434967e-15  2.140914e-16 -2.751376e-17  6.083119e-17  -2.441846e-16\n",
       "std    1.000242e+00  1.000242e+00  1.000242e+00  1.000242e+00   1.000242e+00\n",
       "min   -1.223962e+00 -1.352906e+00 -7.993587e-01 -1.015073e+00  -1.206137e+00\n",
       "25%   -7.617246e-01 -8.674380e-01 -7.993587e-01 -8.802951e-01  -8.150664e-01\n",
       "50%   -4.722177e-01 -1.698324e-01 -7.993587e-01 -4.457826e-01  -3.388546e-01\n",
       "75%    9.071974e-01  6.460806e-01  9.621445e-01  8.409239e-01   8.164850e-01\n",
       "max    2.871303e+00  2.470666e+00  5.934225e+00  2.296198e+00   2.176598e+00"
      ]
     },
     "execution_count": 84,
     "metadata": {},
     "output_type": "execute_result"
    }
   ],
   "source": [
    "X_train_scaled.describe()"
   ]
  },
  {
   "cell_type": "code",
   "execution_count": 85,
   "id": "c52d16c8",
   "metadata": {},
   "outputs": [],
   "source": [
    "X_test_scaled = scaler.transform(X_test)"
   ]
  },
  {
   "cell_type": "markdown",
   "id": "dc69b904",
   "metadata": {},
   "source": [
    "#### - Principal Component Analysis"
   ]
  },
  {
   "cell_type": "code",
   "execution_count": 86,
   "id": "6950dc05",
   "metadata": {},
   "outputs": [],
   "source": [
    "from sklearn.decomposition import PCA\n",
    "\n",
    "pca = PCA()"
   ]
  },
  {
   "cell_type": "markdown",
   "id": "ec665b87",
   "metadata": {},
   "source": [
    "We need to get the loading vectors (rotation matrix) to learn the rotation matrix."
   ]
  },
  {
   "cell_type": "code",
   "execution_count": 87,
   "id": "74445d6b",
   "metadata": {
    "scrolled": true
   },
   "outputs": [
    {
     "data": {
      "text/html": [
       "<style>#sk-container-id-7 {color: black;background-color: white;}#sk-container-id-7 pre{padding: 0;}#sk-container-id-7 div.sk-toggleable {background-color: white;}#sk-container-id-7 label.sk-toggleable__label {cursor: pointer;display: block;width: 100%;margin-bottom: 0;padding: 0.3em;box-sizing: border-box;text-align: center;}#sk-container-id-7 label.sk-toggleable__label-arrow:before {content: \"▸\";float: left;margin-right: 0.25em;color: #696969;}#sk-container-id-7 label.sk-toggleable__label-arrow:hover:before {color: black;}#sk-container-id-7 div.sk-estimator:hover label.sk-toggleable__label-arrow:before {color: black;}#sk-container-id-7 div.sk-toggleable__content {max-height: 0;max-width: 0;overflow: hidden;text-align: left;background-color: #f0f8ff;}#sk-container-id-7 div.sk-toggleable__content pre {margin: 0.2em;color: black;border-radius: 0.25em;background-color: #f0f8ff;}#sk-container-id-7 input.sk-toggleable__control:checked~div.sk-toggleable__content {max-height: 200px;max-width: 100%;overflow: auto;}#sk-container-id-7 input.sk-toggleable__control:checked~label.sk-toggleable__label-arrow:before {content: \"▾\";}#sk-container-id-7 div.sk-estimator input.sk-toggleable__control:checked~label.sk-toggleable__label {background-color: #d4ebff;}#sk-container-id-7 div.sk-label input.sk-toggleable__control:checked~label.sk-toggleable__label {background-color: #d4ebff;}#sk-container-id-7 input.sk-hidden--visually {border: 0;clip: rect(1px 1px 1px 1px);clip: rect(1px, 1px, 1px, 1px);height: 1px;margin: -1px;overflow: hidden;padding: 0;position: absolute;width: 1px;}#sk-container-id-7 div.sk-estimator {font-family: monospace;background-color: #f0f8ff;border: 1px dotted black;border-radius: 0.25em;box-sizing: border-box;margin-bottom: 0.5em;}#sk-container-id-7 div.sk-estimator:hover {background-color: #d4ebff;}#sk-container-id-7 div.sk-parallel-item::after {content: \"\";width: 100%;border-bottom: 1px solid gray;flex-grow: 1;}#sk-container-id-7 div.sk-label:hover label.sk-toggleable__label {background-color: #d4ebff;}#sk-container-id-7 div.sk-serial::before {content: \"\";position: absolute;border-left: 1px solid gray;box-sizing: border-box;top: 0;bottom: 0;left: 50%;z-index: 0;}#sk-container-id-7 div.sk-serial {display: flex;flex-direction: column;align-items: center;background-color: white;padding-right: 0.2em;padding-left: 0.2em;position: relative;}#sk-container-id-7 div.sk-item {position: relative;z-index: 1;}#sk-container-id-7 div.sk-parallel {display: flex;align-items: stretch;justify-content: center;background-color: white;position: relative;}#sk-container-id-7 div.sk-item::before, #sk-container-id-7 div.sk-parallel-item::before {content: \"\";position: absolute;border-left: 1px solid gray;box-sizing: border-box;top: 0;bottom: 0;left: 50%;z-index: -1;}#sk-container-id-7 div.sk-parallel-item {display: flex;flex-direction: column;z-index: 1;position: relative;background-color: white;}#sk-container-id-7 div.sk-parallel-item:first-child::after {align-self: flex-end;width: 50%;}#sk-container-id-7 div.sk-parallel-item:last-child::after {align-self: flex-start;width: 50%;}#sk-container-id-7 div.sk-parallel-item:only-child::after {width: 0;}#sk-container-id-7 div.sk-dashed-wrapped {border: 1px dashed gray;margin: 0 0.4em 0.5em 0.4em;box-sizing: border-box;padding-bottom: 0.4em;background-color: white;}#sk-container-id-7 div.sk-label label {font-family: monospace;font-weight: bold;display: inline-block;line-height: 1.2em;}#sk-container-id-7 div.sk-label-container {text-align: center;}#sk-container-id-7 div.sk-container {/* jupyter's `normalize.less` sets `[hidden] { display: none; }` but bootstrap.min.css set `[hidden] { display: none !important; }` so we also need the `!important` here to be able to override the default hidden behavior on the sphinx rendered scikit-learn.org. See: https://github.com/scikit-learn/scikit-learn/issues/21755 */display: inline-block !important;position: relative;}#sk-container-id-7 div.sk-text-repr-fallback {display: none;}</style><div id=\"sk-container-id-7\" class=\"sk-top-container\"><div class=\"sk-text-repr-fallback\"><pre>PCA()</pre><b>In a Jupyter environment, please rerun this cell to show the HTML representation or trust the notebook. <br />On GitHub, the HTML representation is unable to render, please try loading this page with nbviewer.org.</b></div><div class=\"sk-container\" hidden><div class=\"sk-item\"><div class=\"sk-estimator sk-toggleable\"><input class=\"sk-toggleable__control sk-hidden--visually\" id=\"sk-estimator-id-7\" type=\"checkbox\" checked><label for=\"sk-estimator-id-7\" class=\"sk-toggleable__label sk-toggleable__label-arrow\">PCA</label><div class=\"sk-toggleable__content\"><pre>PCA()</pre></div></div></div></div></div>"
      ],
      "text/plain": [
       "PCA()"
      ]
     },
     "execution_count": 87,
     "metadata": {},
     "output_type": "execute_result"
    }
   ],
   "source": [
    "pca.fit(X_train_scaled)"
   ]
  },
  {
   "cell_type": "code",
   "execution_count": 88,
   "id": "c1d8d864",
   "metadata": {},
   "outputs": [
    {
     "data": {
      "text/html": [
       "<div>\n",
       "<style scoped>\n",
       "    .dataframe tbody tr th:only-of-type {\n",
       "        vertical-align: middle;\n",
       "    }\n",
       "\n",
       "    .dataframe tbody tr th {\n",
       "        vertical-align: top;\n",
       "    }\n",
       "\n",
       "    .dataframe thead th {\n",
       "        text-align: right;\n",
       "    }\n",
       "</style>\n",
       "<table border=\"1\" class=\"dataframe\">\n",
       "  <thead>\n",
       "    <tr style=\"text-align: right;\">\n",
       "      <th></th>\n",
       "      <th>Load_vec1</th>\n",
       "      <th>Load_vec2</th>\n",
       "      <th>Load_vec3</th>\n",
       "      <th>Load_vec4</th>\n",
       "      <th>Load_vec5</th>\n",
       "    </tr>\n",
       "  </thead>\n",
       "  <tbody>\n",
       "    <tr>\n",
       "      <th>Temperature</th>\n",
       "      <td>0.447361</td>\n",
       "      <td>0.221175</td>\n",
       "      <td>-0.789329</td>\n",
       "      <td>0.109405</td>\n",
       "      <td>-0.340500</td>\n",
       "    </tr>\n",
       "    <tr>\n",
       "      <th>Humidity</th>\n",
       "      <td>0.439424</td>\n",
       "      <td>-0.535357</td>\n",
       "      <td>0.364655</td>\n",
       "      <td>0.378282</td>\n",
       "      <td>-0.494195</td>\n",
       "    </tr>\n",
       "    <tr>\n",
       "      <th>Light</th>\n",
       "      <td>0.391180</td>\n",
       "      <td>0.769782</td>\n",
       "      <td>0.461206</td>\n",
       "      <td>0.203949</td>\n",
       "      <td>0.010354</td>\n",
       "    </tr>\n",
       "    <tr>\n",
       "      <th>CO2</th>\n",
       "      <td>0.476544</td>\n",
       "      <td>-0.095545</td>\n",
       "      <td>0.137394</td>\n",
       "      <td>-0.862498</td>\n",
       "      <td>-0.031588</td>\n",
       "    </tr>\n",
       "    <tr>\n",
       "      <th>HumidityRatio</th>\n",
       "      <td>0.476087</td>\n",
       "      <td>-0.250561</td>\n",
       "      <td>-0.111350</td>\n",
       "      <td>0.243794</td>\n",
       "      <td>0.799203</td>\n",
       "    </tr>\n",
       "  </tbody>\n",
       "</table>\n",
       "</div>"
      ],
      "text/plain": [
       "               Load_vec1  Load_vec2  Load_vec3  Load_vec4  Load_vec5\n",
       "Temperature     0.447361   0.221175  -0.789329   0.109405  -0.340500\n",
       "Humidity        0.439424  -0.535357   0.364655   0.378282  -0.494195\n",
       "Light           0.391180   0.769782   0.461206   0.203949   0.010354\n",
       "CO2             0.476544  -0.095545   0.137394  -0.862498  -0.031588\n",
       "HumidityRatio   0.476087  -0.250561  -0.111350   0.243794   0.799203"
      ]
     },
     "execution_count": 88,
     "metadata": {},
     "output_type": "execute_result"
    }
   ],
   "source": [
    "rotation_matrix = pd.DataFrame(pca.components_.T, \n",
    "                       index=X_train_scaled.columns, \n",
    "                       columns=['Load_vec1', 'Load_vec2',  'Load_vec3', 'Load_vec4', 'Load_vec5'])                                                                             \n",
    "rotation_matrix"
   ]
  },
  {
   "cell_type": "markdown",
   "id": "cba6fc03",
   "metadata": {},
   "source": [
    "We now have the information to form our Z (the representation matrix)."
   ]
  },
  {
   "cell_type": "code",
   "execution_count": 89,
   "id": "cda01b68",
   "metadata": {},
   "outputs": [
    {
     "data": {
      "text/html": [
       "<div>\n",
       "<style scoped>\n",
       "    .dataframe tbody tr th:only-of-type {\n",
       "        vertical-align: middle;\n",
       "    }\n",
       "\n",
       "    .dataframe tbody tr th {\n",
       "        vertical-align: top;\n",
       "    }\n",
       "\n",
       "    .dataframe thead th {\n",
       "        text-align: right;\n",
       "    }\n",
       "</style>\n",
       "<table border=\"1\" class=\"dataframe\">\n",
       "  <thead>\n",
       "    <tr style=\"text-align: right;\">\n",
       "      <th></th>\n",
       "      <th>PC1</th>\n",
       "      <th>PC2</th>\n",
       "      <th>PC3</th>\n",
       "      <th>PC4</th>\n",
       "      <th>PC5</th>\n",
       "    </tr>\n",
       "  </thead>\n",
       "  <tbody>\n",
       "    <tr>\n",
       "      <th>1663</th>\n",
       "      <td>3.377351</td>\n",
       "      <td>-0.745033</td>\n",
       "      <td>0.284650</td>\n",
       "      <td>-0.011460</td>\n",
       "      <td>0.025319</td>\n",
       "    </tr>\n",
       "    <tr>\n",
       "      <th>1286</th>\n",
       "      <td>2.348893</td>\n",
       "      <td>0.343121</td>\n",
       "      <td>0.512887</td>\n",
       "      <td>-0.315183</td>\n",
       "      <td>-0.031129</td>\n",
       "    </tr>\n",
       "    <tr>\n",
       "      <th>2537</th>\n",
       "      <td>0.048919</td>\n",
       "      <td>0.708417</td>\n",
       "      <td>0.813236</td>\n",
       "      <td>0.111717</td>\n",
       "      <td>-0.016631</td>\n",
       "    </tr>\n",
       "    <tr>\n",
       "      <th>1658</th>\n",
       "      <td>3.448603</td>\n",
       "      <td>-0.822457</td>\n",
       "      <td>0.306652</td>\n",
       "      <td>0.026043</td>\n",
       "      <td>0.029687</td>\n",
       "    </tr>\n",
       "    <tr>\n",
       "      <th>1574</th>\n",
       "      <td>4.027597</td>\n",
       "      <td>-0.996736</td>\n",
       "      <td>0.400557</td>\n",
       "      <td>-0.182549</td>\n",
       "      <td>0.042381</td>\n",
       "    </tr>\n",
       "  </tbody>\n",
       "</table>\n",
       "</div>"
      ],
      "text/plain": [
       "           PC1       PC2       PC3       PC4       PC5\n",
       "1663  3.377351 -0.745033  0.284650 -0.011460  0.025319\n",
       "1286  2.348893  0.343121  0.512887 -0.315183 -0.031129\n",
       "2537  0.048919  0.708417  0.813236  0.111717 -0.016631\n",
       "1658  3.448603 -0.822457  0.306652  0.026043  0.029687\n",
       "1574  4.027597 -0.996736  0.400557 -0.182549  0.042381"
      ]
     },
     "execution_count": 89,
     "metadata": {},
     "output_type": "execute_result"
    }
   ],
   "source": [
    "representation_matrix = pca.transform(X_train_scaled)\n",
    "representation_matrix.columns = [\"PC1\", \"PC2\", \"PC3\", \"PC4\", \"PC5\"]\n",
    "representation_matrix.head()"
   ]
  },
  {
   "cell_type": "markdown",
   "id": "d9995d75",
   "metadata": {},
   "source": [
    "After pca, we should check the correlation of the representation matrix."
   ]
  },
  {
   "cell_type": "code",
   "execution_count": 90,
   "id": "909c61f6",
   "metadata": {},
   "outputs": [
    {
     "data": {
      "text/html": [
       "<div>\n",
       "<style scoped>\n",
       "    .dataframe tbody tr th:only-of-type {\n",
       "        vertical-align: middle;\n",
       "    }\n",
       "\n",
       "    .dataframe tbody tr th {\n",
       "        vertical-align: top;\n",
       "    }\n",
       "\n",
       "    .dataframe thead th {\n",
       "        text-align: right;\n",
       "    }\n",
       "</style>\n",
       "<table border=\"1\" class=\"dataframe\">\n",
       "  <thead>\n",
       "    <tr style=\"text-align: right;\">\n",
       "      <th></th>\n",
       "      <th>PC1</th>\n",
       "      <th>PC2</th>\n",
       "      <th>PC3</th>\n",
       "      <th>PC4</th>\n",
       "      <th>PC5</th>\n",
       "    </tr>\n",
       "  </thead>\n",
       "  <tbody>\n",
       "    <tr>\n",
       "      <th>PC1</th>\n",
       "      <td>1.0</td>\n",
       "      <td>0.0</td>\n",
       "      <td>0.0</td>\n",
       "      <td>-0.0</td>\n",
       "      <td>0.0</td>\n",
       "    </tr>\n",
       "    <tr>\n",
       "      <th>PC2</th>\n",
       "      <td>0.0</td>\n",
       "      <td>1.0</td>\n",
       "      <td>-0.0</td>\n",
       "      <td>0.0</td>\n",
       "      <td>0.0</td>\n",
       "    </tr>\n",
       "    <tr>\n",
       "      <th>PC3</th>\n",
       "      <td>0.0</td>\n",
       "      <td>-0.0</td>\n",
       "      <td>1.0</td>\n",
       "      <td>-0.0</td>\n",
       "      <td>-0.0</td>\n",
       "    </tr>\n",
       "    <tr>\n",
       "      <th>PC4</th>\n",
       "      <td>-0.0</td>\n",
       "      <td>0.0</td>\n",
       "      <td>-0.0</td>\n",
       "      <td>1.0</td>\n",
       "      <td>-0.0</td>\n",
       "    </tr>\n",
       "    <tr>\n",
       "      <th>PC5</th>\n",
       "      <td>0.0</td>\n",
       "      <td>0.0</td>\n",
       "      <td>-0.0</td>\n",
       "      <td>-0.0</td>\n",
       "      <td>1.0</td>\n",
       "    </tr>\n",
       "  </tbody>\n",
       "</table>\n",
       "</div>"
      ],
      "text/plain": [
       "     PC1  PC2  PC3  PC4  PC5\n",
       "PC1  1.0  0.0  0.0 -0.0  0.0\n",
       "PC2  0.0  1.0 -0.0  0.0  0.0\n",
       "PC3  0.0 -0.0  1.0 -0.0 -0.0\n",
       "PC4 -0.0  0.0 -0.0  1.0 -0.0\n",
       "PC5  0.0  0.0 -0.0 -0.0  1.0"
      ]
     },
     "execution_count": 90,
     "metadata": {},
     "output_type": "execute_result"
    }
   ],
   "source": [
    "representation_matrix.corr().round(3)"
   ]
  },
  {
   "cell_type": "markdown",
   "id": "53698701",
   "metadata": {},
   "source": [
    "As it can be observed here, principal components have no relation with each other."
   ]
  },
  {
   "cell_type": "markdown",
   "id": "918f8cc6",
   "metadata": {},
   "source": [
    "#### - Choosing the number of the principal components"
   ]
  },
  {
   "cell_type": "code",
   "execution_count": 91,
   "id": "746f041a",
   "metadata": {},
   "outputs": [
    {
     "data": {
      "text/plain": [
       "array([8.49197995e-01, 1.03369272e-01, 3.99421554e-02, 7.33238851e-03,\n",
       "       1.58188493e-04])"
      ]
     },
     "execution_count": 91,
     "metadata": {},
     "output_type": "execute_result"
    }
   ],
   "source": [
    "pca.explained_variance_ratio_"
   ]
  },
  {
   "cell_type": "markdown",
   "id": "58884999",
   "metadata": {},
   "source": [
    "We can make a scree plot to choose the number of components in pca."
   ]
  },
  {
   "cell_type": "code",
   "execution_count": 92,
   "id": "b3dd3587",
   "metadata": {},
   "outputs": [
    {
     "data": {
      "text/plain": [
       "Text(0.5, 1.0, 'Scree Plot')"
      ]
     },
     "execution_count": 92,
     "metadata": {},
     "output_type": "execute_result"
    },
    {
     "data": {
      "image/png": "[encoded data removed]",
      "text/plain": [
       "<Figure size 1000x500 with 1 Axes>"
      ]
     },
     "metadata": {},
     "output_type": "display_data"
    }
   ],
   "source": [
    "import matplotlib.pyplot as plt\n",
    "import seaborn as sns\n",
    "plt.rcParams['figure.figsize'] = [10, 5]\n",
    "\n",
    "plt.plot([1,2,3,4,5], pca.explained_variance_ratio_, marker='o', label='Individual principal component')\n",
    "\n",
    "plt.ylabel('Proportion of Variance Explained')\n",
    "plt.xlabel('Principal Component')\n",
    "plt.ylim(0,1)\n",
    "plt.xticks([1,2,3,4,5])\n",
    "plt.yticks([0.1,0.2,0.3,0.4,0.5,0.6,0.7,0.8,0.9,1])\n",
    "plt.legend(loc=2)\n",
    "plt.title('Scree Plot')"
   ]
  },
  {
   "cell_type": "markdown",
   "id": "ae441844",
   "metadata": {},
   "source": [
    "Now, I am going to instantiate the pca again with n_components=1.\n",
    "\n",
    "Dimension reduced data:"
   ]
  },
  {
   "cell_type": "code",
   "execution_count": 93,
   "id": "585d5f1d",
   "metadata": {},
   "outputs": [],
   "source": [
    "pca2 = PCA(n_components=1)\n",
    "X_train_pca = pca2.fit_transform(X_train_scaled)\n",
    "X_test_pca = pca2.transform(X_test_scaled)"
   ]
  },
  {
   "cell_type": "markdown",
   "id": "cb70542e-7bdd-4242-ba96-551412eb89ec",
   "metadata": {},
   "source": [
    "## Visualization\n",
    "\n",
    "- Take the first two principal components you found, namely principal component 1 and 2,  and visualize these two principal components in the train and test data with respect to class labels of the sample points, separetely. \n",
    "- If possible, comment on the visualization to tell us how class labels are changing respect to principal component 1 and 2.\n",
    "- Based on these plots, can you make a guess whether logistic regression will result in a higher accuracy in train and test data? (If you found out that the appropriate number of principal components is larger than 2, of course, the visualization you have just done cannot reveal the real story). But, in any way, tell us whether you expect a higher accuracy or not before implementing your classifier below."
   ]
  },
  {
   "cell_type": "markdown",
   "id": "ca1c8a10-0338-4ea9-a57a-41e29002c77e",
   "metadata": {},
   "source": [
    "## Classifier Implementation\n",
    "\n",
    "- Implement your classifier to your pre-processed (scaled + dimension reduced) data here. "
   ]
  },
  {
   "cell_type": "code",
   "execution_count": 94,
   "id": "baecb079",
   "metadata": {},
   "outputs": [
    {
     "data": {
      "text/html": [
       "<style>#sk-container-id-8 {color: black;background-color: white;}#sk-container-id-8 pre{padding: 0;}#sk-container-id-8 div.sk-toggleable {background-color: white;}#sk-container-id-8 label.sk-toggleable__label {cursor: pointer;display: block;width: 100%;margin-bottom: 0;padding: 0.3em;box-sizing: border-box;text-align: center;}#sk-container-id-8 label.sk-toggleable__label-arrow:before {content: \"▸\";float: left;margin-right: 0.25em;color: #696969;}#sk-container-id-8 label.sk-toggleable__label-arrow:hover:before {color: black;}#sk-container-id-8 div.sk-estimator:hover label.sk-toggleable__label-arrow:before {color: black;}#sk-container-id-8 div.sk-toggleable__content {max-height: 0;max-width: 0;overflow: hidden;text-align: left;background-color: #f0f8ff;}#sk-container-id-8 div.sk-toggleable__content pre {margin: 0.2em;color: black;border-radius: 0.25em;background-color: #f0f8ff;}#sk-container-id-8 input.sk-toggleable__control:checked~div.sk-toggleable__content {max-height: 200px;max-width: 100%;overflow: auto;}#sk-container-id-8 input.sk-toggleable__control:checked~label.sk-toggleable__label-arrow:before {content: \"▾\";}#sk-container-id-8 div.sk-estimator input.sk-toggleable__control:checked~label.sk-toggleable__label {background-color: #d4ebff;}#sk-container-id-8 div.sk-label input.sk-toggleable__control:checked~label.sk-toggleable__label {background-color: #d4ebff;}#sk-container-id-8 input.sk-hidden--visually {border: 0;clip: rect(1px 1px 1px 1px);clip: rect(1px, 1px, 1px, 1px);height: 1px;margin: -1px;overflow: hidden;padding: 0;position: absolute;width: 1px;}#sk-container-id-8 div.sk-estimator {font-family: monospace;background-color: #f0f8ff;border: 1px dotted black;border-radius: 0.25em;box-sizing: border-box;margin-bottom: 0.5em;}#sk-container-id-8 div.sk-estimator:hover {background-color: #d4ebff;}#sk-container-id-8 div.sk-parallel-item::after {content: \"\";width: 100%;border-bottom: 1px solid gray;flex-grow: 1;}#sk-container-id-8 div.sk-label:hover label.sk-toggleable__label {background-color: #d4ebff;}#sk-container-id-8 div.sk-serial::before {content: \"\";position: absolute;border-left: 1px solid gray;box-sizing: border-box;top: 0;bottom: 0;left: 50%;z-index: 0;}#sk-container-id-8 div.sk-serial {display: flex;flex-direction: column;align-items: center;background-color: white;padding-right: 0.2em;padding-left: 0.2em;position: relative;}#sk-container-id-8 div.sk-item {position: relative;z-index: 1;}#sk-container-id-8 div.sk-parallel {display: flex;align-items: stretch;justify-content: center;background-color: white;position: relative;}#sk-container-id-8 div.sk-item::before, #sk-container-id-8 div.sk-parallel-item::before {content: \"\";position: absolute;border-left: 1px solid gray;box-sizing: border-box;top: 0;bottom: 0;left: 50%;z-index: -1;}#sk-container-id-8 div.sk-parallel-item {display: flex;flex-direction: column;z-index: 1;position: relative;background-color: white;}#sk-container-id-8 div.sk-parallel-item:first-child::after {align-self: flex-end;width: 50%;}#sk-container-id-8 div.sk-parallel-item:last-child::after {align-self: flex-start;width: 50%;}#sk-container-id-8 div.sk-parallel-item:only-child::after {width: 0;}#sk-container-id-8 div.sk-dashed-wrapped {border: 1px dashed gray;margin: 0 0.4em 0.5em 0.4em;box-sizing: border-box;padding-bottom: 0.4em;background-color: white;}#sk-container-id-8 div.sk-label label {font-family: monospace;font-weight: bold;display: inline-block;line-height: 1.2em;}#sk-container-id-8 div.sk-label-container {text-align: center;}#sk-container-id-8 div.sk-container {/* jupyter's `normalize.less` sets `[hidden] { display: none; }` but bootstrap.min.css set `[hidden] { display: none !important; }` so we also need the `!important` here to be able to override the default hidden behavior on the sphinx rendered scikit-learn.org. See: https://github.com/scikit-learn/scikit-learn/issues/21755 */display: inline-block !important;position: relative;}#sk-container-id-8 div.sk-text-repr-fallback {display: none;}</style><div id=\"sk-container-id-8\" class=\"sk-top-container\"><div class=\"sk-text-repr-fallback\"><pre>LogisticRegression(penalty=None)</pre><b>In a Jupyter environment, please rerun this cell to show the HTML representation or trust the notebook. <br />On GitHub, the HTML representation is unable to render, please try loading this page with nbviewer.org.</b></div><div class=\"sk-container\" hidden><div class=\"sk-item\"><div class=\"sk-estimator sk-toggleable\"><input class=\"sk-toggleable__control sk-hidden--visually\" id=\"sk-estimator-id-8\" type=\"checkbox\" checked><label for=\"sk-estimator-id-8\" class=\"sk-toggleable__label sk-toggleable__label-arrow\">LogisticRegression</label><div class=\"sk-toggleable__content\"><pre>LogisticRegression(penalty=None)</pre></div></div></div></div></div>"
      ],
      "text/plain": [
       "LogisticRegression(penalty=None)"
      ]
     },
     "execution_count": 94,
     "metadata": {},
     "output_type": "execute_result"
    }
   ],
   "source": [
    "from sklearn.linear_model import LogisticRegression\n",
    "lr = LogisticRegression(penalty=None)\n",
    "lr.fit(X_train_pca, y_train.values.ravel())"
   ]
  },
  {
   "cell_type": "markdown",
   "id": "08274702-6c41-451a-8feb-924adddce9c1",
   "metadata": {},
   "source": [
    "## Conclusion\n",
    "\n",
    "- Report the accuracy of the built classifier on the train and test data, respectively. Comment on whether model needs any improvement due to under-fitting or over-fitting. If so, provide a suggestion."
   ]
  },
  {
   "cell_type": "code",
   "execution_count": 95,
   "id": "dffb738b",
   "metadata": {},
   "outputs": [
    {
     "name": "stdout",
     "output_type": "stream",
     "text": [
      "Accuracy on train data: 0.8756\n"
     ]
    }
   ],
   "source": [
    "print(\"Accuracy on train data: %.4f\" % lr.score(X_train_pca, y_train))"
   ]
  },
  {
   "cell_type": "code",
   "execution_count": 96,
   "id": "a45203ba",
   "metadata": {},
   "outputs": [
    {
     "name": "stdout",
     "output_type": "stream",
     "text": [
      "Accuracy on test data: 0.8820\n"
     ]
    }
   ],
   "source": [
    "print(\"Accuracy on test data: %.4f\" % lr.score(X_test_pca, y_test))"
   ]
  },
  {
   "cell_type": "markdown",
   "id": "889d712a",
   "metadata": {},
   "source": [
    "The accuracy scores on the train and the test data are very close to each other. So, this model is good."
   ]
  },
  {
   "cell_type": "markdown",
   "id": "1f7c10a3-eb81-43fa-b44f-94ade7482ede",
   "metadata": {},
   "source": [
    "Hint: In this example, you have to apply two pre-processing approaches to your training data sequentially. When you are doing this, please be sure that you are **avoiding data leakage**. I want to see whether you got the one of the main ideas of this course in this last homework."
   ]
  },
  {
   "cell_type": "markdown",
   "id": "0507e85f",
   "metadata": {},
   "source": [
    "## References\n",
    "- https://www.kaggle.com/datasets/sachinsharma1123/room-occupancy\n",
    "- https://github.com/MAT388E-Spring23/Lecture_Materials/tree/main Gül İnan Lecture Slides. "
   ]
  }
 ],
 "metadata": {
  "kernelspec": {
   "display_name": "Python 3 (ipykernel)",
   "language": "python",
   "name": "python3"
  },
  "language_info": {
   "codemirror_mode": {
    "name": "ipython",
    "version": 3
   },
   "file_extension": ".py",
   "mimetype": "text/x-python",
   "name": "python",
   "nbconvert_exporter": "python",
   "pygments_lexer": "ipython3",
   "version": "3.11.5"
  }
 },
 "nbformat": 4,
 "nbformat_minor": 5
}
