{
 "cells": [
  {
   "cell_type": "raw",
   "id": "d24fc445-6256-488d-a04e-aef3db62239d",
   "metadata": {},
   "source": [
    "---\n",
    "title: \"Task 2\"\n",
    "subtitle: \"Multi-class Classification\"\n",
    "author: \"Name Surname\"\n",
    "date: \"April 17, 2023\"\n",
    "---"
   ]
  },
  {
   "cell_type": "markdown",
   "id": "db8c59b9-c0c7-49f6-bd1a-80b81ce2122c",
   "metadata": {},
   "source": [
    "**Task 2:** Find a data set which is suitable for multi-class (class number is greater than two) classification (there is no limit on the number of features or type of the features). Then, apply K-nearest neighbors algorithm and multinomial regression to this data set to find the best performing model with respect to a classification metric. Explain the reason (give support) why you picked that model as the final one.\n",
    "\n",
    "#### Instructions to follow:\n",
    "\n",
    "- Include all your codes here. Be sure that your code is CLEAN, READABLE, and REPRODUCIBLE.\n",
    "- Put your data set into a **datasets** folder.\n",
    "- Put your images (if available) into an **images** folder.\n",
    "- Please return a NICE and CLEAR homework. Otherwise, it will not be graded.\n",
    "- Please write YOUR OWN code. **DO NOT copy** my codes or someone else's codes.\n",
    "- Please **DO NOT use** IRIS data set for this task."
   ]
  },
  {
   "cell_type": "markdown",
   "id": "733f1643-bb84-4278-9e62-1f63d6adfa45",
   "metadata": {},
   "source": [
    "## Data Decription\n",
    "\n",
    "- Import and introduce your data set here."
   ]
  },
  {
   "cell_type": "markdown",
   "id": "ca1c8a10-0338-4ea9-a57a-41e29002c77e",
   "metadata": {},
   "source": [
    "## Classifier Implementation\n",
    "\n",
    "- Implement your classifiers here.\n",
    "- During the implementation choose an appropriate classification metric for your problem. Give the reason why you chose that\n",
    "metric."
   ]
  },
  {
   "cell_type": "markdown",
   "id": "08274702-6c41-451a-8feb-924adddce9c1",
   "metadata": {},
   "source": [
    "## Conclusion\n",
    "\n",
    "- Provide detailed explanation on why you picked this model as the final model here."
   ]
  }
 ],
 "metadata": {
  "kernelspec": {
   "display_name": "Python 3 (ipykernel)",
   "language": "python",
   "name": "python3"
  },
  "language_info": {
   "codemirror_mode": {
    "name": "ipython",
    "version": 3
   },
   "file_extension": ".py",
   "mimetype": "text/x-python",
   "name": "python",
   "nbconvert_exporter": "python",
   "pygments_lexer": "ipython3",
   "version": "3.11.3"
  }
 },
 "nbformat": 4,
 "nbformat_minor": 5
}
