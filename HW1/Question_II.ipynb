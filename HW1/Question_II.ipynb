{
 "cells": [
  {
   "cell_type": "markdown",
   "id": "4cc28ded",
   "metadata": {},
   "source": [
    "##### 090200354, Beyza Kopuz"
   ]
  },
  {
   "cell_type": "markdown",
   "id": "b96fba6d-be51-4390-9a6d-7a93d03918c0",
   "metadata": {},
   "source": [
    "---\n",
    "title: \"Task 2\"\n",
    "subtitle: \"Data Pre-processing\"\n",
    "author: \"Beyza Kopuz\"\n",
    "date: \"April 3, 2023\"\n",
    "---"
   ]
  },
  {
   "cell_type": "markdown",
   "id": "99278f7d-96f7-4518-8e3a-94623c9d7d09",
   "metadata": {},
   "source": [
    "**Task 2:** Find a data set which is suitable for regression analysis and consists of a mix of numerical, nominal, and ordinal variables. Look for the cases, where at least one of the variable has missing values. If not, you can randomly delete a very small portion of one of the variables.\n",
    "Design a machine learning pipeline where you scale the numerical features and encode the nominal and ordinal features along with imputing the missing values.\n",
    "\n",
    "#### Instructions to follow:\n",
    "\n",
    "- Include all your codes here. Be sure that your code is CLEAN, READABLE, and REPRODUCIBLE.\n",
    "- Put your data set into a **datasets** folder.\n",
    "- Put your images (if available) into an **images** folder.\n",
    "- Please return a NICE and CLEAR homework. Otherwise, it will not be graded.\n",
    "- Please write YOUR OWN code. **DO NOT copy** my codes or someone else's codes."
   ]
  },
  {
   "cell_type": "markdown",
   "id": "66f0f059-7831-4db6-8fd1-53ac25ce26d2",
   "metadata": {},
   "source": [
    "## Data Decription\n",
    "\n",
    "- Import and introduce your data set here."
   ]
  },
  {
   "cell_type": "code",
   "execution_count": 1,
   "id": "441b0111",
   "metadata": {},
   "outputs": [],
   "source": [
    "import pandas as pd\n",
    "import numpy as np"
   ]
  },
  {
   "cell_type": "code",
   "execution_count": 2,
   "id": "095ccc94",
   "metadata": {
    "scrolled": true
   },
   "outputs": [
    {
     "data": {
      "text/html": [
       "<div>\n",
       "<style scoped>\n",
       "    .dataframe tbody tr th:only-of-type {\n",
       "        vertical-align: middle;\n",
       "    }\n",
       "\n",
       "    .dataframe tbody tr th {\n",
       "        vertical-align: top;\n",
       "    }\n",
       "\n",
       "    .dataframe thead th {\n",
       "        text-align: right;\n",
       "    }\n",
       "</style>\n",
       "<table border=\"1\" class=\"dataframe\">\n",
       "  <thead>\n",
       "    <tr style=\"text-align: right;\">\n",
       "      <th></th>\n",
       "      <th>price</th>\n",
       "      <th>area</th>\n",
       "      <th>bedrooms</th>\n",
       "      <th>bathrooms</th>\n",
       "      <th>stories</th>\n",
       "      <th>mainroad</th>\n",
       "      <th>guestroom</th>\n",
       "      <th>basement</th>\n",
       "      <th>hotwaterheating</th>\n",
       "      <th>airconditioning</th>\n",
       "      <th>parking</th>\n",
       "      <th>prefarea</th>\n",
       "      <th>furnishingstatus</th>\n",
       "    </tr>\n",
       "  </thead>\n",
       "  <tbody>\n",
       "    <tr>\n",
       "      <th>0</th>\n",
       "      <td>13300000</td>\n",
       "      <td>7420</td>\n",
       "      <td>4</td>\n",
       "      <td>2</td>\n",
       "      <td>3</td>\n",
       "      <td>yes</td>\n",
       "      <td>no</td>\n",
       "      <td>no</td>\n",
       "      <td>no</td>\n",
       "      <td>yes</td>\n",
       "      <td>2</td>\n",
       "      <td>yes</td>\n",
       "      <td>furnished</td>\n",
       "    </tr>\n",
       "    <tr>\n",
       "      <th>1</th>\n",
       "      <td>12250000</td>\n",
       "      <td>8960</td>\n",
       "      <td>4</td>\n",
       "      <td>4</td>\n",
       "      <td>4</td>\n",
       "      <td>yes</td>\n",
       "      <td>no</td>\n",
       "      <td>no</td>\n",
       "      <td>no</td>\n",
       "      <td>yes</td>\n",
       "      <td>3</td>\n",
       "      <td>no</td>\n",
       "      <td>furnished</td>\n",
       "    </tr>\n",
       "    <tr>\n",
       "      <th>2</th>\n",
       "      <td>12250000</td>\n",
       "      <td>9960</td>\n",
       "      <td>3</td>\n",
       "      <td>2</td>\n",
       "      <td>2</td>\n",
       "      <td>yes</td>\n",
       "      <td>no</td>\n",
       "      <td>yes</td>\n",
       "      <td>no</td>\n",
       "      <td>no</td>\n",
       "      <td>2</td>\n",
       "      <td>yes</td>\n",
       "      <td>semi-furnished</td>\n",
       "    </tr>\n",
       "    <tr>\n",
       "      <th>3</th>\n",
       "      <td>12215000</td>\n",
       "      <td>7500</td>\n",
       "      <td>4</td>\n",
       "      <td>2</td>\n",
       "      <td>2</td>\n",
       "      <td>yes</td>\n",
       "      <td>no</td>\n",
       "      <td>yes</td>\n",
       "      <td>no</td>\n",
       "      <td>yes</td>\n",
       "      <td>3</td>\n",
       "      <td>yes</td>\n",
       "      <td>furnished</td>\n",
       "    </tr>\n",
       "    <tr>\n",
       "      <th>4</th>\n",
       "      <td>11410000</td>\n",
       "      <td>7420</td>\n",
       "      <td>4</td>\n",
       "      <td>1</td>\n",
       "      <td>2</td>\n",
       "      <td>yes</td>\n",
       "      <td>yes</td>\n",
       "      <td>yes</td>\n",
       "      <td>no</td>\n",
       "      <td>yes</td>\n",
       "      <td>2</td>\n",
       "      <td>no</td>\n",
       "      <td>furnished</td>\n",
       "    </tr>\n",
       "    <tr>\n",
       "      <th>...</th>\n",
       "      <td>...</td>\n",
       "      <td>...</td>\n",
       "      <td>...</td>\n",
       "      <td>...</td>\n",
       "      <td>...</td>\n",
       "      <td>...</td>\n",
       "      <td>...</td>\n",
       "      <td>...</td>\n",
       "      <td>...</td>\n",
       "      <td>...</td>\n",
       "      <td>...</td>\n",
       "      <td>...</td>\n",
       "      <td>...</td>\n",
       "    </tr>\n",
       "    <tr>\n",
       "      <th>540</th>\n",
       "      <td>1820000</td>\n",
       "      <td>3000</td>\n",
       "      <td>2</td>\n",
       "      <td>1</td>\n",
       "      <td>1</td>\n",
       "      <td>yes</td>\n",
       "      <td>no</td>\n",
       "      <td>yes</td>\n",
       "      <td>no</td>\n",
       "      <td>no</td>\n",
       "      <td>2</td>\n",
       "      <td>no</td>\n",
       "      <td>unfurnished</td>\n",
       "    </tr>\n",
       "    <tr>\n",
       "      <th>541</th>\n",
       "      <td>1767150</td>\n",
       "      <td>2400</td>\n",
       "      <td>3</td>\n",
       "      <td>1</td>\n",
       "      <td>1</td>\n",
       "      <td>no</td>\n",
       "      <td>no</td>\n",
       "      <td>no</td>\n",
       "      <td>no</td>\n",
       "      <td>no</td>\n",
       "      <td>0</td>\n",
       "      <td>no</td>\n",
       "      <td>semi-furnished</td>\n",
       "    </tr>\n",
       "    <tr>\n",
       "      <th>542</th>\n",
       "      <td>1750000</td>\n",
       "      <td>3620</td>\n",
       "      <td>2</td>\n",
       "      <td>1</td>\n",
       "      <td>1</td>\n",
       "      <td>yes</td>\n",
       "      <td>no</td>\n",
       "      <td>no</td>\n",
       "      <td>no</td>\n",
       "      <td>no</td>\n",
       "      <td>0</td>\n",
       "      <td>no</td>\n",
       "      <td>unfurnished</td>\n",
       "    </tr>\n",
       "    <tr>\n",
       "      <th>543</th>\n",
       "      <td>1750000</td>\n",
       "      <td>2910</td>\n",
       "      <td>3</td>\n",
       "      <td>1</td>\n",
       "      <td>1</td>\n",
       "      <td>no</td>\n",
       "      <td>no</td>\n",
       "      <td>no</td>\n",
       "      <td>no</td>\n",
       "      <td>no</td>\n",
       "      <td>0</td>\n",
       "      <td>no</td>\n",
       "      <td>furnished</td>\n",
       "    </tr>\n",
       "    <tr>\n",
       "      <th>544</th>\n",
       "      <td>1750000</td>\n",
       "      <td>3850</td>\n",
       "      <td>3</td>\n",
       "      <td>1</td>\n",
       "      <td>2</td>\n",
       "      <td>yes</td>\n",
       "      <td>no</td>\n",
       "      <td>no</td>\n",
       "      <td>no</td>\n",
       "      <td>no</td>\n",
       "      <td>0</td>\n",
       "      <td>no</td>\n",
       "      <td>unfurnished</td>\n",
       "    </tr>\n",
       "  </tbody>\n",
       "</table>\n",
       "<p>545 rows × 13 columns</p>\n",
       "</div>"
      ],
      "text/plain": [
       "        price  area  bedrooms  bathrooms  stories mainroad guestroom basement  \\\n",
       "0    13300000  7420         4          2        3      yes        no       no   \n",
       "1    12250000  8960         4          4        4      yes        no       no   \n",
       "2    12250000  9960         3          2        2      yes        no      yes   \n",
       "3    12215000  7500         4          2        2      yes        no      yes   \n",
       "4    11410000  7420         4          1        2      yes       yes      yes   \n",
       "..        ...   ...       ...        ...      ...      ...       ...      ...   \n",
       "540   1820000  3000         2          1        1      yes        no      yes   \n",
       "541   1767150  2400         3          1        1       no        no       no   \n",
       "542   1750000  3620         2          1        1      yes        no       no   \n",
       "543   1750000  2910         3          1        1       no        no       no   \n",
       "544   1750000  3850         3          1        2      yes        no       no   \n",
       "\n",
       "    hotwaterheating airconditioning  parking prefarea furnishingstatus  \n",
       "0                no             yes        2      yes        furnished  \n",
       "1                no             yes        3       no        furnished  \n",
       "2                no              no        2      yes   semi-furnished  \n",
       "3                no             yes        3      yes        furnished  \n",
       "4                no             yes        2       no        furnished  \n",
       "..              ...             ...      ...      ...              ...  \n",
       "540              no              no        2       no      unfurnished  \n",
       "541              no              no        0       no   semi-furnished  \n",
       "542              no              no        0       no      unfurnished  \n",
       "543              no              no        0       no        furnished  \n",
       "544              no              no        0       no      unfurnished  \n",
       "\n",
       "[545 rows x 13 columns]"
      ]
     },
     "execution_count": 2,
     "metadata": {},
     "output_type": "execute_result"
    }
   ],
   "source": [
    "house = pd.read_csv(r'C:\\Users\\beyza\\OneDrive\\Masaüstü\\datasets\\Housing.csv')\n",
    "house"
   ]
  },
  {
   "cell_type": "markdown",
   "id": "9479e8ff",
   "metadata": {},
   "source": [
    "This 'Housing' data set can be found in the 'datasets' folder and at the end of this notebook on References list. \n",
    "It has 13 columns and 545 rows.\n",
    "\n",
    "The column names are as follows:\n",
    "- price: Price of the house. (This is the target value.)\n",
    "- area: Area of the house.\n",
    "- bedrooms: Number of bedrooms the house has.\n",
    "- bathrooms: Number of bathrooms the house has.\n",
    "- stories: Number of the stories in the house.\n",
    "- mainroad: Whether the house is connected to the main road.\n",
    "- guestroom: Whether the house has a guestroom.\n",
    "- basement: Whether the house has a basement.\n",
    "- hotwaterheating: Whether the house has hot water heater.\n",
    "- airconditioning: Whether the house has air conditioning.\n",
    "- parking: Number of house parking.\n",
    "- prefarea: Whether the house is in a preferred area. (This is my interpretation. Source doesn't explain this further.)\n",
    "- furnishingstatus: Furnishing status of the house."
   ]
  },
  {
   "cell_type": "code",
   "execution_count": 3,
   "id": "87f4a9ba",
   "metadata": {},
   "outputs": [
    {
     "name": "stdout",
     "output_type": "stream",
     "text": [
      "<class 'pandas.core.frame.DataFrame'>\n",
      "RangeIndex: 545 entries, 0 to 544\n",
      "Data columns (total 13 columns):\n",
      " #   Column            Non-Null Count  Dtype \n",
      "---  ------            --------------  ----- \n",
      " 0   price             545 non-null    int64 \n",
      " 1   area              545 non-null    int64 \n",
      " 2   bedrooms          545 non-null    int64 \n",
      " 3   bathrooms         545 non-null    int64 \n",
      " 4   stories           545 non-null    int64 \n",
      " 5   mainroad          545 non-null    object\n",
      " 6   guestroom         545 non-null    object\n",
      " 7   basement          545 non-null    object\n",
      " 8   hotwaterheating   545 non-null    object\n",
      " 9   airconditioning   545 non-null    object\n",
      " 10  parking           545 non-null    int64 \n",
      " 11  prefarea          545 non-null    object\n",
      " 12  furnishingstatus  545 non-null    object\n",
      "dtypes: int64(6), object(7)\n",
      "memory usage: 55.5+ KB\n"
     ]
    }
   ],
   "source": [
    "house.info()"
   ]
  },
  {
   "cell_type": "markdown",
   "id": "c88112b3",
   "metadata": {},
   "source": [
    "This data set has no not-available entries. In order to do the asked task, I will have to delete a small portion of one of the variables. I choose to delete from the 'bedrooms' variable."
   ]
  },
  {
   "cell_type": "code",
   "execution_count": 4,
   "id": "15725849",
   "metadata": {},
   "outputs": [],
   "source": [
    "bedr = house['bedrooms']\n",
    "df = pd.DataFrame(bedr, columns=['bedrooms'])"
   ]
  },
  {
   "cell_type": "code",
   "execution_count": 5,
   "id": "507c541e",
   "metadata": {},
   "outputs": [
    {
     "data": {
      "text/html": [
       "<div>\n",
       "<style scoped>\n",
       "    .dataframe tbody tr th:only-of-type {\n",
       "        vertical-align: middle;\n",
       "    }\n",
       "\n",
       "    .dataframe tbody tr th {\n",
       "        vertical-align: top;\n",
       "    }\n",
       "\n",
       "    .dataframe thead th {\n",
       "        text-align: right;\n",
       "    }\n",
       "</style>\n",
       "<table border=\"1\" class=\"dataframe\">\n",
       "  <thead>\n",
       "    <tr style=\"text-align: right;\">\n",
       "      <th></th>\n",
       "      <th>bedrooms</th>\n",
       "    </tr>\n",
       "  </thead>\n",
       "  <tbody>\n",
       "    <tr>\n",
       "      <th>0</th>\n",
       "      <td>4.0</td>\n",
       "    </tr>\n",
       "    <tr>\n",
       "      <th>1</th>\n",
       "      <td>4.0</td>\n",
       "    </tr>\n",
       "    <tr>\n",
       "      <th>2</th>\n",
       "      <td>3.0</td>\n",
       "    </tr>\n",
       "    <tr>\n",
       "      <th>3</th>\n",
       "      <td>4.0</td>\n",
       "    </tr>\n",
       "    <tr>\n",
       "      <th>4</th>\n",
       "      <td>4.0</td>\n",
       "    </tr>\n",
       "    <tr>\n",
       "      <th>...</th>\n",
       "      <td>...</td>\n",
       "    </tr>\n",
       "    <tr>\n",
       "      <th>540</th>\n",
       "      <td>2.0</td>\n",
       "    </tr>\n",
       "    <tr>\n",
       "      <th>541</th>\n",
       "      <td>3.0</td>\n",
       "    </tr>\n",
       "    <tr>\n",
       "      <th>542</th>\n",
       "      <td>2.0</td>\n",
       "    </tr>\n",
       "    <tr>\n",
       "      <th>543</th>\n",
       "      <td>3.0</td>\n",
       "    </tr>\n",
       "    <tr>\n",
       "      <th>544</th>\n",
       "      <td>3.0</td>\n",
       "    </tr>\n",
       "  </tbody>\n",
       "</table>\n",
       "<p>545 rows × 1 columns</p>\n",
       "</div>"
      ],
      "text/plain": [
       "     bedrooms\n",
       "0         4.0\n",
       "1         4.0\n",
       "2         3.0\n",
       "3         4.0\n",
       "4         4.0\n",
       "..        ...\n",
       "540       2.0\n",
       "541       3.0\n",
       "542       2.0\n",
       "543       3.0\n",
       "544       3.0\n",
       "\n",
       "[545 rows x 1 columns]"
      ]
     },
     "execution_count": 5,
     "metadata": {},
     "output_type": "execute_result"
    }
   ],
   "source": [
    "def delete(col):\n",
    "    col.loc[col.sample(frac=0.045).index] = np.nan\n",
    "    return col\n",
    "\n",
    "df.apply(delete, axis=0)"
   ]
  },
  {
   "cell_type": "code",
   "execution_count": 6,
   "id": "b11e3df8",
   "metadata": {
    "scrolled": true
   },
   "outputs": [
    {
     "name": "stdout",
     "output_type": "stream",
     "text": [
      "<class 'pandas.core.frame.DataFrame'>\n",
      "RangeIndex: 545 entries, 0 to 544\n",
      "Data columns (total 1 columns):\n",
      " #   Column    Non-Null Count  Dtype  \n",
      "---  ------    --------------  -----  \n",
      " 0   bedrooms  520 non-null    float64\n",
      "dtypes: float64(1)\n",
      "memory usage: 4.4 KB\n"
     ]
    }
   ],
   "source": [
    "df.info()"
   ]
  },
  {
   "cell_type": "code",
   "execution_count": 7,
   "id": "8e61ca55",
   "metadata": {},
   "outputs": [
    {
     "data": {
      "text/html": [
       "<div>\n",
       "<style scoped>\n",
       "    .dataframe tbody tr th:only-of-type {\n",
       "        vertical-align: middle;\n",
       "    }\n",
       "\n",
       "    .dataframe tbody tr th {\n",
       "        vertical-align: top;\n",
       "    }\n",
       "\n",
       "    .dataframe thead th {\n",
       "        text-align: right;\n",
       "    }\n",
       "</style>\n",
       "<table border=\"1\" class=\"dataframe\">\n",
       "  <thead>\n",
       "    <tr style=\"text-align: right;\">\n",
       "      <th></th>\n",
       "      <th>price</th>\n",
       "      <th>area</th>\n",
       "      <th>bedrooms</th>\n",
       "      <th>bathrooms</th>\n",
       "      <th>stories</th>\n",
       "      <th>mainroad</th>\n",
       "      <th>guestroom</th>\n",
       "      <th>basement</th>\n",
       "      <th>hotwaterheating</th>\n",
       "      <th>airconditioning</th>\n",
       "      <th>parking</th>\n",
       "      <th>prefarea</th>\n",
       "      <th>furnishingstatus</th>\n",
       "    </tr>\n",
       "  </thead>\n",
       "  <tbody>\n",
       "    <tr>\n",
       "      <th>0</th>\n",
       "      <td>13300000</td>\n",
       "      <td>7420</td>\n",
       "      <td>4.0</td>\n",
       "      <td>2</td>\n",
       "      <td>3</td>\n",
       "      <td>yes</td>\n",
       "      <td>no</td>\n",
       "      <td>no</td>\n",
       "      <td>no</td>\n",
       "      <td>yes</td>\n",
       "      <td>2</td>\n",
       "      <td>yes</td>\n",
       "      <td>furnished</td>\n",
       "    </tr>\n",
       "    <tr>\n",
       "      <th>1</th>\n",
       "      <td>12250000</td>\n",
       "      <td>8960</td>\n",
       "      <td>4.0</td>\n",
       "      <td>4</td>\n",
       "      <td>4</td>\n",
       "      <td>yes</td>\n",
       "      <td>no</td>\n",
       "      <td>no</td>\n",
       "      <td>no</td>\n",
       "      <td>yes</td>\n",
       "      <td>3</td>\n",
       "      <td>no</td>\n",
       "      <td>furnished</td>\n",
       "    </tr>\n",
       "    <tr>\n",
       "      <th>2</th>\n",
       "      <td>12250000</td>\n",
       "      <td>9960</td>\n",
       "      <td>3.0</td>\n",
       "      <td>2</td>\n",
       "      <td>2</td>\n",
       "      <td>yes</td>\n",
       "      <td>no</td>\n",
       "      <td>yes</td>\n",
       "      <td>no</td>\n",
       "      <td>no</td>\n",
       "      <td>2</td>\n",
       "      <td>yes</td>\n",
       "      <td>semi-furnished</td>\n",
       "    </tr>\n",
       "    <tr>\n",
       "      <th>3</th>\n",
       "      <td>12215000</td>\n",
       "      <td>7500</td>\n",
       "      <td>4.0</td>\n",
       "      <td>2</td>\n",
       "      <td>2</td>\n",
       "      <td>yes</td>\n",
       "      <td>no</td>\n",
       "      <td>yes</td>\n",
       "      <td>no</td>\n",
       "      <td>yes</td>\n",
       "      <td>3</td>\n",
       "      <td>yes</td>\n",
       "      <td>furnished</td>\n",
       "    </tr>\n",
       "    <tr>\n",
       "      <th>4</th>\n",
       "      <td>11410000</td>\n",
       "      <td>7420</td>\n",
       "      <td>4.0</td>\n",
       "      <td>1</td>\n",
       "      <td>2</td>\n",
       "      <td>yes</td>\n",
       "      <td>yes</td>\n",
       "      <td>yes</td>\n",
       "      <td>no</td>\n",
       "      <td>yes</td>\n",
       "      <td>2</td>\n",
       "      <td>no</td>\n",
       "      <td>furnished</td>\n",
       "    </tr>\n",
       "    <tr>\n",
       "      <th>...</th>\n",
       "      <td>...</td>\n",
       "      <td>...</td>\n",
       "      <td>...</td>\n",
       "      <td>...</td>\n",
       "      <td>...</td>\n",
       "      <td>...</td>\n",
       "      <td>...</td>\n",
       "      <td>...</td>\n",
       "      <td>...</td>\n",
       "      <td>...</td>\n",
       "      <td>...</td>\n",
       "      <td>...</td>\n",
       "      <td>...</td>\n",
       "    </tr>\n",
       "    <tr>\n",
       "      <th>540</th>\n",
       "      <td>1820000</td>\n",
       "      <td>3000</td>\n",
       "      <td>2.0</td>\n",
       "      <td>1</td>\n",
       "      <td>1</td>\n",
       "      <td>yes</td>\n",
       "      <td>no</td>\n",
       "      <td>yes</td>\n",
       "      <td>no</td>\n",
       "      <td>no</td>\n",
       "      <td>2</td>\n",
       "      <td>no</td>\n",
       "      <td>unfurnished</td>\n",
       "    </tr>\n",
       "    <tr>\n",
       "      <th>541</th>\n",
       "      <td>1767150</td>\n",
       "      <td>2400</td>\n",
       "      <td>3.0</td>\n",
       "      <td>1</td>\n",
       "      <td>1</td>\n",
       "      <td>no</td>\n",
       "      <td>no</td>\n",
       "      <td>no</td>\n",
       "      <td>no</td>\n",
       "      <td>no</td>\n",
       "      <td>0</td>\n",
       "      <td>no</td>\n",
       "      <td>semi-furnished</td>\n",
       "    </tr>\n",
       "    <tr>\n",
       "      <th>542</th>\n",
       "      <td>1750000</td>\n",
       "      <td>3620</td>\n",
       "      <td>2.0</td>\n",
       "      <td>1</td>\n",
       "      <td>1</td>\n",
       "      <td>yes</td>\n",
       "      <td>no</td>\n",
       "      <td>no</td>\n",
       "      <td>no</td>\n",
       "      <td>no</td>\n",
       "      <td>0</td>\n",
       "      <td>no</td>\n",
       "      <td>unfurnished</td>\n",
       "    </tr>\n",
       "    <tr>\n",
       "      <th>543</th>\n",
       "      <td>1750000</td>\n",
       "      <td>2910</td>\n",
       "      <td>3.0</td>\n",
       "      <td>1</td>\n",
       "      <td>1</td>\n",
       "      <td>no</td>\n",
       "      <td>no</td>\n",
       "      <td>no</td>\n",
       "      <td>no</td>\n",
       "      <td>no</td>\n",
       "      <td>0</td>\n",
       "      <td>no</td>\n",
       "      <td>furnished</td>\n",
       "    </tr>\n",
       "    <tr>\n",
       "      <th>544</th>\n",
       "      <td>1750000</td>\n",
       "      <td>3850</td>\n",
       "      <td>3.0</td>\n",
       "      <td>1</td>\n",
       "      <td>2</td>\n",
       "      <td>yes</td>\n",
       "      <td>no</td>\n",
       "      <td>no</td>\n",
       "      <td>no</td>\n",
       "      <td>no</td>\n",
       "      <td>0</td>\n",
       "      <td>no</td>\n",
       "      <td>unfurnished</td>\n",
       "    </tr>\n",
       "  </tbody>\n",
       "</table>\n",
       "<p>545 rows × 13 columns</p>\n",
       "</div>"
      ],
      "text/plain": [
       "        price  area  bedrooms  bathrooms  stories mainroad guestroom basement  \\\n",
       "0    13300000  7420       4.0          2        3      yes        no       no   \n",
       "1    12250000  8960       4.0          4        4      yes        no       no   \n",
       "2    12250000  9960       3.0          2        2      yes        no      yes   \n",
       "3    12215000  7500       4.0          2        2      yes        no      yes   \n",
       "4    11410000  7420       4.0          1        2      yes       yes      yes   \n",
       "..        ...   ...       ...        ...      ...      ...       ...      ...   \n",
       "540   1820000  3000       2.0          1        1      yes        no      yes   \n",
       "541   1767150  2400       3.0          1        1       no        no       no   \n",
       "542   1750000  3620       2.0          1        1      yes        no       no   \n",
       "543   1750000  2910       3.0          1        1       no        no       no   \n",
       "544   1750000  3850       3.0          1        2      yes        no       no   \n",
       "\n",
       "    hotwaterheating airconditioning  parking prefarea furnishingstatus  \n",
       "0                no             yes        2      yes        furnished  \n",
       "1                no             yes        3       no        furnished  \n",
       "2                no              no        2      yes   semi-furnished  \n",
       "3                no             yes        3      yes        furnished  \n",
       "4                no             yes        2       no        furnished  \n",
       "..              ...             ...      ...      ...              ...  \n",
       "540              no              no        2       no      unfurnished  \n",
       "541              no              no        0       no   semi-furnished  \n",
       "542              no              no        0       no      unfurnished  \n",
       "543              no              no        0       no        furnished  \n",
       "544              no              no        0       no      unfurnished  \n",
       "\n",
       "[545 rows x 13 columns]"
      ]
     },
     "execution_count": 7,
     "metadata": {},
     "output_type": "execute_result"
    }
   ],
   "source": [
    "house['bedrooms'] = df['bedrooms']\n",
    "house"
   ]
  },
  {
   "cell_type": "code",
   "execution_count": 8,
   "id": "a473c823",
   "metadata": {},
   "outputs": [
    {
     "name": "stdout",
     "output_type": "stream",
     "text": [
      "<class 'pandas.core.frame.DataFrame'>\n",
      "RangeIndex: 545 entries, 0 to 544\n",
      "Data columns (total 13 columns):\n",
      " #   Column            Non-Null Count  Dtype  \n",
      "---  ------            --------------  -----  \n",
      " 0   price             545 non-null    int64  \n",
      " 1   area              545 non-null    int64  \n",
      " 2   bedrooms          520 non-null    float64\n",
      " 3   bathrooms         545 non-null    int64  \n",
      " 4   stories           545 non-null    int64  \n",
      " 5   mainroad          545 non-null    object \n",
      " 6   guestroom         545 non-null    object \n",
      " 7   basement          545 non-null    object \n",
      " 8   hotwaterheating   545 non-null    object \n",
      " 9   airconditioning   545 non-null    object \n",
      " 10  parking           545 non-null    int64  \n",
      " 11  prefarea          545 non-null    object \n",
      " 12  furnishingstatus  545 non-null    object \n",
      "dtypes: float64(1), int64(5), object(7)\n",
      "memory usage: 55.5+ KB\n"
     ]
    }
   ],
   "source": [
    "house.info()"
   ]
  },
  {
   "cell_type": "markdown",
   "id": "0a455ec4",
   "metadata": {},
   "source": [
    "This is the new (removed) data set that I am going to use. "
   ]
  },
  {
   "cell_type": "markdown",
   "id": "42196dd9",
   "metadata": {},
   "source": [
    "### Data Splitting"
   ]
  },
  {
   "cell_type": "markdown",
   "id": "b1708507",
   "metadata": {},
   "source": [
    "Performing data splitting at the beginning of the work flow is very important as it prevents data leakage."
   ]
  },
  {
   "cell_type": "code",
   "execution_count": 9,
   "id": "b9a9fd18",
   "metadata": {},
   "outputs": [],
   "source": [
    "#Separating the target value and the feature matrix.\n",
    "house_X = house.drop(columns=['price'], axis=1)\n",
    "house_y = house['price']"
   ]
  },
  {
   "cell_type": "code",
   "execution_count": 10,
   "id": "a8f7690b",
   "metadata": {},
   "outputs": [],
   "source": [
    "#Data splitting\n",
    "from sklearn.model_selection import train_test_split\n",
    "\n",
    "house_X_train, house_X_test, house_y_train, house_y_test = train_test_split(house_X, house_y, test_size=0.2, random_state=1989)"
   ]
  },
  {
   "cell_type": "markdown",
   "id": "c1386bd0-d7ab-40f1-b5c6-882a7148d167",
   "metadata": {},
   "source": [
    "## Pipeline Design\n",
    "\n",
    "- Design your machine learning pipeline here."
   ]
  },
  {
   "cell_type": "code",
   "execution_count": 11,
   "id": "7e831c78",
   "metadata": {},
   "outputs": [],
   "source": [
    "#sklearn returns numpy arrays. but we need pandas dataframes. with this line of code, everything will be returned in pandas dataframe. \n",
    "from sklearn import set_config\n",
    "set_config(transform_output=\"pandas\") "
   ]
  },
  {
   "cell_type": "markdown",
   "id": "b70ec12c",
   "metadata": {},
   "source": [
    "I am going to design 3 different pipelines each for numerical, nominal and ordinal features. To do that, I need to separate the features in the house_X_train to numerical, nominal and ordinal. As I've learned in further steps, the ColumnTransformer doesn't accept column names with string. So I'm listing the columns by indices here."
   ]
  },
  {
   "cell_type": "code",
   "execution_count": 12,
   "id": "64f7d04f",
   "metadata": {},
   "outputs": [],
   "source": [
    "numerical_features = house_X_train.columns[[0,1,2,3,9]]\n",
    "nominal_features = house_X_train.columns[[4,5,6,7,8,10]]\n",
    "ordinal_features = house_X_train.columns[[11]]"
   ]
  },
  {
   "cell_type": "code",
   "execution_count": 13,
   "id": "a45d02b2",
   "metadata": {},
   "outputs": [
    {
     "data": {
      "text/plain": [
       "Index(['area', 'bedrooms', 'bathrooms', 'stories', 'parking'], dtype='object')"
      ]
     },
     "execution_count": 13,
     "metadata": {},
     "output_type": "execute_result"
    }
   ],
   "source": [
    "numerical_features"
   ]
  },
  {
   "cell_type": "code",
   "execution_count": 14,
   "id": "1d16cc4c",
   "metadata": {},
   "outputs": [
    {
     "data": {
      "text/plain": [
       "Index(['mainroad', 'guestroom', 'basement', 'hotwaterheating',\n",
       "       'airconditioning', 'prefarea'],\n",
       "      dtype='object')"
      ]
     },
     "execution_count": 14,
     "metadata": {},
     "output_type": "execute_result"
    }
   ],
   "source": [
    "nominal_features"
   ]
  },
  {
   "cell_type": "code",
   "execution_count": 15,
   "id": "9116f334",
   "metadata": {},
   "outputs": [
    {
     "data": {
      "text/plain": [
       "Index(['furnishingstatus'], dtype='object')"
      ]
     },
     "execution_count": 15,
     "metadata": {},
     "output_type": "execute_result"
    }
   ],
   "source": [
    "ordinal_features"
   ]
  },
  {
   "cell_type": "markdown",
   "id": "e257acd9",
   "metadata": {},
   "source": [
    "- Instantiate the imputers."
   ]
  },
  {
   "cell_type": "code",
   "execution_count": 16,
   "id": "93dd7757",
   "metadata": {},
   "outputs": [],
   "source": [
    "from sklearn.impute import SimpleImputer\n",
    "\n",
    "numerical_imputer = SimpleImputer(strategy=\"mean\")\n",
    "nominal_imputer = SimpleImputer(strategy=\"most_frequent\")\n",
    "ordinal_imputer = SimpleImputer(strategy=\"most_frequent\")"
   ]
  },
  {
   "cell_type": "markdown",
   "id": "e2688e50",
   "metadata": {},
   "source": [
    "- Instantiate the scaler and encoders."
   ]
  },
  {
   "cell_type": "code",
   "execution_count": 17,
   "id": "c8514b45",
   "metadata": {},
   "outputs": [],
   "source": [
    "furnishing_cat = [\"unfurnished\",\"semi-furnished\",\"furnished\"] #Orders are 0, 1, 2 respectively."
   ]
  },
  {
   "cell_type": "code",
   "execution_count": 18,
   "id": "279c36b0",
   "metadata": {},
   "outputs": [],
   "source": [
    "from sklearn.preprocessing import StandardScaler, OneHotEncoder, OrdinalEncoder\n",
    "\n",
    "numerical_preprocessor = StandardScaler()\n",
    "nominal_preprocessor = OneHotEncoder(drop='if_binary', sparse_output=False)  \n",
    "ordinal_preprocessor = OrdinalEncoder(categories=[furnishing_cat])"
   ]
  },
  {
   "cell_type": "markdown",
   "id": "49051dab",
   "metadata": {},
   "source": [
    "- Create preprocessing pipelines for numerical, nominal and ordinal data separately."
   ]
  },
  {
   "cell_type": "code",
   "execution_count": 19,
   "id": "36bd0da3",
   "metadata": {},
   "outputs": [],
   "source": [
    "from sklearn.pipeline import make_pipeline\n",
    "\n",
    "numerical_pipeline = make_pipeline(\n",
    "    numerical_imputer, \n",
    "    numerical_preprocessor, \n",
    ")\n",
    "\n",
    "nominal_pipeline = make_pipeline(\n",
    "    nominal_imputer,\n",
    "    nominal_preprocessor\n",
    ")\n",
    "\n",
    "ordinal_pipeline = make_pipeline(\n",
    "    ordinal_imputer,\n",
    "    ordinal_preprocessor\n",
    ")"
   ]
  },
  {
   "cell_type": "markdown",
   "id": "7627e407",
   "metadata": {},
   "source": [
    "- Combining the pipelines together."
   ]
  },
  {
   "cell_type": "code",
   "execution_count": 20,
   "id": "c32f21c9",
   "metadata": {},
   "outputs": [],
   "source": [
    "from sklearn.compose import ColumnTransformer\n",
    "\n",
    "#full transformer\n",
    "preprocessor = ColumnTransformer(\n",
    "    transformers=[\n",
    "        (\"num\", numerical_pipeline, numerical_features),\n",
    "        (\"nom\", nominal_pipeline, nominal_features),\n",
    "        (\"ord\", ordinal_pipeline, ordinal_features)\n",
    "    ]\n",
    ")"
   ]
  },
  {
   "cell_type": "markdown",
   "id": "e3e0e7cf",
   "metadata": {},
   "source": [
    "- Creating the final pipeline."
   ]
  },
  {
   "cell_type": "code",
   "execution_count": 21,
   "id": "ce482396",
   "metadata": {},
   "outputs": [],
   "source": [
    "from sklearn.linear_model import LinearRegression\n",
    "\n",
    "pipe = make_pipeline(\n",
    "    preprocessor, \n",
    "    LinearRegression()\n",
    ")"
   ]
  },
  {
   "cell_type": "code",
   "execution_count": 22,
   "id": "480474b2",
   "metadata": {},
   "outputs": [],
   "source": [
    "%%capture \n",
    "#Output of this line doesn't look pretty so I'm hiding the output for the clean look.\n",
    "pipe"
   ]
  },
  {
   "cell_type": "markdown",
   "id": "cfbe4425-577b-4b7f-9980-2e65e0c9a262",
   "metadata": {},
   "source": [
    "## Pipeline Results\n",
    "\n",
    "- Put your regression analysis (which is based on a pipeline object) results here. Comment on the results."
   ]
  },
  {
   "cell_type": "markdown",
   "id": "de093242",
   "metadata": {},
   "source": [
    "- Applying the pipeline to the training data **only**."
   ]
  },
  {
   "cell_type": "code",
   "execution_count": 23,
   "id": "3c56e0c0",
   "metadata": {},
   "outputs": [],
   "source": [
    "%%capture \n",
    "#Output of this line doesn't look pretty so I'm hiding the output for the clean look.\n",
    "pipe.fit(house_X_train, house_y_train)"
   ]
  },
  {
   "cell_type": "markdown",
   "id": "f273e007",
   "metadata": {},
   "source": [
    "- Predicting the test values."
   ]
  },
  {
   "cell_type": "code",
   "execution_count": 24,
   "id": "710bd651",
   "metadata": {},
   "outputs": [],
   "source": [
    "%%capture \n",
    "#Output of this line doesn't look pretty so I'm hiding the output for the clean look.\n",
    "pipe.predict(house_X_test)"
   ]
  },
  {
   "cell_type": "markdown",
   "id": "997afa83",
   "metadata": {},
   "source": [
    "- Finally, checking R^2 score to see how good this model is."
   ]
  },
  {
   "cell_type": "code",
   "execution_count": 25,
   "id": "cd55aa82",
   "metadata": {},
   "outputs": [
    {
     "name": "stdout",
     "output_type": "stream",
     "text": [
      "R^2 score of the test data: 0.72\n"
     ]
    }
   ],
   "source": [
    "print('R^2 score of the test data: %.2f' % pipe.score(house_X_test, house_y_test)) "
   ]
  },
  {
   "cell_type": "markdown",
   "id": "066ce2e1",
   "metadata": {},
   "source": [
    "I think the R^2 score is close enough to 1 and this linear model is a good model for this data set."
   ]
  },
  {
   "cell_type": "markdown",
   "id": "bf7b2730",
   "metadata": {},
   "source": [
    "## References\n",
    "- https://www.kaggle.com/datasets/yasserh/housing-prices-dataset\n",
    "- https://scikit-learn.org/stable/auto_examples/compose/plot_column_transformer_mixed_types.html\n",
    "- https://inria.github.io/scikit-learn-mooc/python_scripts/03_categorical_pipeline_column_transformer.html\n",
    "- https://stackoverflow.com/questions/61641852/what-is-the-valid-specification-of-the-columns-needed-for-sklearn-classifier-p\n",
    "- https://github.com/gulinan Gül İnan Lecture Slides. "
   ]
  }
 ],
 "metadata": {
  "kernelspec": {
   "display_name": "Python 3 (ipykernel)",
   "language": "python",
   "name": "python3"
  },
  "language_info": {
   "codemirror_mode": {
    "name": "ipython",
    "version": 3
   },
   "file_extension": ".py",
   "mimetype": "text/x-python",
   "name": "python",
   "nbconvert_exporter": "python",
   "pygments_lexer": "ipython3",
   "version": "3.11.2"
  }
 },
 "nbformat": 4,
 "nbformat_minor": 5
}
